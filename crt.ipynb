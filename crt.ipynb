{
 "cells": [
  {
   "cell_type": "code",
   "execution_count": 1,
   "id": "519a14ad-77e9-4d19-98c3-41dec0be75cc",
   "metadata": {},
   "outputs": [
    {
     "name": "stdout",
     "output_type": "stream",
     "text": [
      "35\n"
     ]
    }
   ],
   "source": [
    "import keyword\n",
    "print(len(keyword.kwlist))"
   ]
  },
  {
   "cell_type": "code",
   "execution_count": 3,
   "id": "2ca12425-d5ca-43fa-ae3a-6a904d9f1dd0",
   "metadata": {},
   "outputs": [
    {
     "name": "stdout",
     "output_type": "stream",
     "text": [
      "['False', 'None', 'True', 'and', 'as', 'assert', 'async', 'await', 'break', 'class', 'continue', 'def', 'del', 'elif', 'else', 'except', 'finally', 'for', 'from', 'global', 'if', 'import', 'in', 'is', 'lambda', 'nonlocal', 'not', 'or', 'pass', 'raise', 'return', 'try', 'while', 'with', 'yield']\n"
     ]
    }
   ],
   "source": [
    "import keyword\n",
    "print(keyword.kwlist)"
   ]
  },
  {
   "cell_type": "code",
   "execution_count": 5,
   "id": "fa255099-4d9c-4939-af3b-cb0272aad98b",
   "metadata": {},
   "outputs": [
    {
     "data": {
      "text/plain": [
       "'\\nuppercase\\nexample:MY_CONSTANT\\noften used for constraints in languages like c and c++\\nin python there is no constant keyword instead we use uppercase variable'"
      ]
     },
     "execution_count": 5,
     "metadata": {},
     "output_type": "execute_result"
    }
   ],
   "source": [
    "'''\n",
    "uppercase\n",
    "example:MY_CONSTANT\n",
    "often used for constraints in languages like c and c++\n",
    "in python there is no constant keyword instead we use uppercase variable'''\n"
   ]
  },
  {
   "cell_type": "code",
   "execution_count": 9,
   "id": "4337bc65-97b6-48b3-9075-d2317fbe1e2a",
   "metadata": {},
   "outputs": [
    {
     "name": "stdout",
     "output_type": "stream",
     "text": [
      "-8\n"
     ]
    }
   ],
   "source": [
    "a=~7\n",
    "print(a)"
   ]
  },
  {
   "cell_type": "code",
   "execution_count": 11,
   "id": "7d64ecd6-ba5d-4b95-b6dd-20d93fd4f360",
   "metadata": {},
   "outputs": [
    {
     "name": "stdout",
     "output_type": "stream",
     "text": [
      "6\n"
     ]
    }
   ],
   "source": [
    "a=~(-7)\n",
    "print(a)"
   ]
  },
  {
   "cell_type": "code",
   "execution_count": 19,
   "id": "30860e4c-e9f4-490b-8607-87227d551882",
   "metadata": {},
   "outputs": [
    {
     "name": "stdin",
     "output_type": "stream",
     "text": [
      "enter the year 2895\n"
     ]
    },
    {
     "name": "stdout",
     "output_type": "stream",
     "text": [
      "not a leap year\n"
     ]
    }
   ],
   "source": [
    "y=int(input(\"enter the year\"))\n",
    "if y%4==0:\n",
    "    if y%100==0:\n",
    "        if y%400==0:\n",
    "            print(\"year is leap year\")\n",
    "        else:\n",
    "            print(\"not leap year\")\n",
    "    else:\n",
    "        print(\"leap year\")\n",
    "else:\n",
    "    print(\"not a leap year\")"
   ]
  },
  {
   "cell_type": "code",
   "execution_count": 21,
   "id": "09cbc013-f409-4528-8076-626415b75794",
   "metadata": {},
   "outputs": [
    {
     "data": {
      "text/plain": [
       "' lists are dynamic '"
      ]
     },
     "execution_count": 21,
     "metadata": {},
     "output_type": "execute_result"
    }
   ],
   "source": [
    "''' list is a collection of different data type which were ordered mutable index ordered and supports duplicate values we can create a list with sqaure brackets[]'''\n",
    "''' lists are dynamic '''"
   ]
  },
  {
   "cell_type": "code",
   "execution_count": 1,
   "id": "24d5933c-40d6-4cb9-8631-91db4b2a254b",
   "metadata": {},
   "outputs": [
    {
     "data": {
      "text/plain": [
       "' in built functions\\nlen()=to find the length of the list\\nmax()=to return the max value\\nmin()\\nsum()\\nsorted()\\nlist()\\nany()\\nall()'"
      ]
     },
     "execution_count": 1,
     "metadata": {},
     "output_type": "execute_result"
    }
   ],
   "source": [
    "''' in built functions\n",
    "len()=to find the length of the list\n",
    "max()=to return the max value\n",
    "min()=to return the min value\n",
    "sum()\n",
    "sorted()\n",
    "list()\n",
    "any()\n",
    "all()\n",
    "'''"
   ]
  },
  {
   "cell_type": "code",
   "execution_count": 3,
   "id": "bfd81c9a-105b-4340-9138-dba2f0e46299",
   "metadata": {},
   "outputs": [
    {
     "data": {
      "text/plain": [
       "'methods of list\\nappend()\\nextend()\\ninsert()\\nindex()\\ncount()\\nremove()\\npop()\\nclear()\\nsort()\\nreverse()\\n'"
      ]
     },
     "execution_count": 3,
     "metadata": {},
     "output_type": "execute_result"
    }
   ],
   "source": [
    "'''methods of list\n",
    "append()\n",
    "extend()\n",
    "insert()\n",
    "index()\n",
    "count()\n",
    "remove()\n",
    "pop()\n",
    "clear()\n",
    "sort()\n",
    "reverse()\n",
    "'''"
   ]
  },
  {
   "cell_type": "code",
   "execution_count": 14,
   "id": "49c52acb-bc0c-46f2-ba2e-b9b6a4360ae7",
   "metadata": {},
   "outputs": [
    {
     "name": "stdout",
     "output_type": "stream",
     "text": [
      "['noida', 'sai', 'saiiii', 'sssai']\n"
     ]
    }
   ],
   "source": [
    "places=['sai','saiiii','sssai']\n",
    "places.insert(0,'noida')\n",
    "print(places)"
   ]
  },
  {
   "cell_type": "code",
   "execution_count": 22,
   "id": "11b4d785-854d-4dd9-b4ce-37d5867cb1e7",
   "metadata": {},
   "outputs": [
    {
     "name": "stdin",
     "output_type": "stream",
     "text": [
      " 3\n",
      " 5\n",
      " 4\n",
      " 2\n",
      " 8\n",
      " 7\n"
     ]
    },
    {
     "name": "stdout",
     "output_type": "stream",
     "text": [
      "-1\n"
     ]
    }
   ],
   "source": [
    "def catfood(n,c,u,arr):\n",
    "    if n==0:\n",
    "        return 0\n",
    "    cf=0\n",
    "    rf=c*u\n",
    "    for i in range(n):\n",
    "        cf=cf*arr[i]\n",
    "        if cf>= rf:\n",
    "            return i+1\n",
    "    if cf<rf:\n",
    "        return-1\n",
    "n=int(input())\n",
    "c=int(input())\n",
    "u=int(input())\n",
    "arr=[]\n",
    "for i in range(n):\n",
    "    arr.append(int(input()))\n",
    "print(catfood(n,c,u,arr))"
   ]
  },
  {
   "cell_type": "code",
   "execution_count": 24,
   "id": "52b35705-1054-4279-b3e1-8c84007ac9dc",
   "metadata": {},
   "outputs": [
    {
     "name": "stdin",
     "output_type": "stream",
     "text": [
      " 4\n"
     ]
    },
    {
     "name": "stdout",
     "output_type": "stream",
     "text": [
      "[0, 1, 2, 3, 5, 6, 7, 8, 9, 10, 11, 12, 13, 14, 15, 16, 17]\n"
     ]
    }
   ],
   "source": [
    "def missingDigits(num):\n",
    "    number=str(num)\n",
    "    missing_digits=[]\n",
    "    for i in range(18):\n",
    "        if str(i) not in number:\n",
    "            missing_digits.append(i)\n",
    "    return missing_digits\n",
    "num=int(input())\n",
    "print(missingDigits(num))"
   ]
  },
  {
   "cell_type": "code",
   "execution_count": 26,
   "id": "8285577c-d016-4615-ac27-4538c2a61471",
   "metadata": {},
   "outputs": [
    {
     "name": "stdin",
     "output_type": "stream",
     "text": [
      " 4\n"
     ]
    },
    {
     "name": "stdout",
     "output_type": "stream",
     "text": [
      "0 1 2 3 5 6 7 8 9 10 11 12 13 14 15 16 17 "
     ]
    }
   ],
   "source": [
    "def missingDigits(num):\n",
    "    li=[False]*18\n",
    "    while num:\n",
    "        li[num%18]=True\n",
    "        num=num//10\n",
    "    return li\n",
    "num=int(input())\n",
    "result=missingDigits(num)\n",
    "for i in range(18):\n",
    "    if not result[i]:\n",
    "        print(i,end=' ')"
   ]
  },
  {
   "cell_type": "code",
   "execution_count": 30,
   "id": "79e2ec39-4ec8-4924-acd6-929a31c33765",
   "metadata": {},
   "outputs": [
    {
     "name": "stdout",
     "output_type": "stream",
     "text": [
      "[1, 4, 9, 16, 25]\n"
     ]
    }
   ],
   "source": [
    "a=[1,2,3,4,5]\n",
    "sq=[]\n",
    "for i in a:\n",
    "    sq.append(i*i)\n",
    "print(sq)"
   ]
  },
  {
   "cell_type": "code",
   "execution_count": 34,
   "id": "64fb4fad-581b-4d0b-98b1-5f391559bb34",
   "metadata": {},
   "outputs": [
    {
     "name": "stdout",
     "output_type": "stream",
     "text": [
      "[1, 4, 9, 16, 25]\n"
     ]
    }
   ],
   "source": [
    "print([a*a for a in range(1,6)])"
   ]
  },
  {
   "cell_type": "code",
   "execution_count": 38,
   "id": "5639ff33-776e-4f5e-ba98-c97805514723",
   "metadata": {},
   "outputs": [
    {
     "name": "stdout",
     "output_type": "stream",
     "text": [
      "[1, 9, 25]\n"
     ]
    }
   ],
   "source": [
    "print([a*a for a in range(1,6) if a%2==1])"
   ]
  },
  {
   "cell_type": "code",
   "execution_count": 48,
   "id": "118e6a4c-aeda-40e8-9382-f5ed16305e07",
   "metadata": {},
   "outputs": [
    {
     "name": "stdin",
     "output_type": "stream",
     "text": [
      " 2\n"
     ]
    },
    {
     "name": "stdout",
     "output_type": "stream",
     "text": [
      "['buzz', 'fizz', 'buzz', 'fizz', 'buzz', 'fizz', 'buzz', 'fizz', 'buzz', 'fizz', 'buzz', 'fizz', 'buzz', 'fizz', 'buzz']\n",
      "<class 'str'>\n"
     ]
    }
   ],
   "source": [
    "n=int(input())\n",
    "print(['fizz' if i%n==0 else 'buzz' for i in range(1,16)])\n",
    "print(type('fizz'))"
   ]
  },
  {
   "cell_type": "code",
   "execution_count": 52,
   "id": "2dd559c4-debb-4d29-b3b5-c72472704511",
   "metadata": {},
   "outputs": [
    {
     "name": "stdout",
     "output_type": "stream",
     "text": [
      "[1, 2, 3, 21]\n",
      "[1, 2, 3]\n"
     ]
    }
   ],
   "source": [
    "a1=[1,2,3]\n",
    "a2=a1.copy()\n",
    "a2.append(21)\n",
    "print(a2)\n",
    "print(a1)"
   ]
  },
  {
   "cell_type": "code",
   "execution_count": null,
   "id": "5d846893-7270-42e6-be97-3b92fc187442",
   "metadata": {},
   "outputs": [],
   "source": []
  }
 ],
 "metadata": {
  "kernelspec": {
   "display_name": "Python [conda env:base] *",
   "language": "python",
   "name": "conda-base-py"
  },
  "language_info": {
   "codemirror_mode": {
    "name": "ipython",
    "version": 3
   },
   "file_extension": ".py",
   "mimetype": "text/x-python",
   "name": "python",
   "nbconvert_exporter": "python",
   "pygments_lexer": "ipython3",
   "version": "3.12.7"
  }
 },
 "nbformat": 4,
 "nbformat_minor": 5
}
